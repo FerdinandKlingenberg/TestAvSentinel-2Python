{
 "cells": [
  {
   "cell_type": "code",
   "execution_count": 9,
   "metadata": {},
   "outputs": [],
   "source": [
    "# Import modules\n",
    "import ndvi_algo\n",
    "import snappy\n",
    "from snappy import ProductIO\n",
    "from snappy import GPF\n",
    "from snappy import jpy\n",
    "import sys\n",
    "import numpy as np\n",
    "import string\n",
    "import os"
   ]
  },
  {
   "cell_type": "code",
   "execution_count": 10,
   "metadata": {},
   "outputs": [
    {
     "name": "stdout",
     "output_type": "stream",
     "text": [
      "Reading...\n"
     ]
    },
    {
     "ename": "RuntimeError",
     "evalue": "java.io.FileNotFoundException: File not found: /home/fklingenberg/Documents/Mosaicing_python/Data/S2A_MSIL1C_20170523T104031_N0205_R008_T32VNM_20170523T104025.SAFE/GRANULE/L1C_T32VNM_A010015_20170523T104025/IMG_DATA/*_B11.jp2",
     "output_type": "error",
     "traceback": [
      "\u001b[0;31m---------------------------------------------------------------------------\u001b[0m",
      "\u001b[0;31mRuntimeError\u001b[0m                              Traceback (most recent call last)",
      "\u001b[0;32m<ipython-input-10-73156b1a127b>\u001b[0m in \u001b[0;36m<module>\u001b[0;34m()\u001b[0m\n\u001b[1;32m      2\u001b[0m \u001b[0;31m#T32VNM_20170523T104031\u001b[0m\u001b[0;34m\u001b[0m\u001b[0;34m\u001b[0m\u001b[0m\n\u001b[1;32m      3\u001b[0m \u001b[0;32mprint\u001b[0m\u001b[0;34m(\u001b[0m\u001b[0;34m\"Reading...\"\u001b[0m\u001b[0;34m)\u001b[0m\u001b[0;34m\u001b[0m\u001b[0m\n\u001b[0;32m----> 4\u001b[0;31m \u001b[0mproduct\u001b[0m \u001b[0;34m=\u001b[0m \u001b[0mProductIO\u001b[0m\u001b[0;34m.\u001b[0m\u001b[0mreadProduct\u001b[0m\u001b[0;34m(\u001b[0m\u001b[0;34m'/home/fklingenberg/Documents/Mosaicing_python/Data/S2A_MSIL1C_20170523T104031_N0205_R008_T32VNM_20170523T104025.SAFE/GRANULE/L1C_T32VNM_A010015_20170523T104025/IMG_DATA/*_B11.jp2'\u001b[0m\u001b[0;34m)\u001b[0m\u001b[0;34m\u001b[0m\u001b[0m\n\u001b[0m\u001b[1;32m      5\u001b[0m \u001b[0mwidth\u001b[0m \u001b[0;34m=\u001b[0m \u001b[0mproduct\u001b[0m\u001b[0;34m.\u001b[0m\u001b[0mgetSceneRasterWidth\u001b[0m\u001b[0;34m(\u001b[0m\u001b[0;34m)\u001b[0m\u001b[0;34m\u001b[0m\u001b[0m\n\u001b[1;32m      6\u001b[0m \u001b[0mheight\u001b[0m \u001b[0;34m=\u001b[0m \u001b[0mproduct\u001b[0m\u001b[0;34m.\u001b[0m\u001b[0mgetSceneRasterHeight\u001b[0m\u001b[0;34m(\u001b[0m\u001b[0;34m)\u001b[0m\u001b[0;34m\u001b[0m\u001b[0m\n",
      "\u001b[0;31mRuntimeError\u001b[0m: java.io.FileNotFoundException: File not found: /home/fklingenberg/Documents/Mosaicing_python/Data/S2A_MSIL1C_20170523T104031_N0205_R008_T32VNM_20170523T104025.SAFE/GRANULE/L1C_T32VNM_A010015_20170523T104025/IMG_DATA/*_B11.jp2"
     ]
    }
   ],
   "source": [
    "# Import files\n",
    "#T32VNM_20170523T104031\n",
    "print(\"Reading...\")\n",
    "product = ProductIO.readProduct('/home/fklingenberg/Documents/Mosaicing_python/Data/S2A_MSIL1C_20170523T104031_N0205_R008_T32VNM_20170523T104025.SAFE/GRANULE/L1C_T32VNM_A010015_20170523T104025/IMG_DATA/*_B11.jp2')\n",
    "width = product.getSceneRasterWidth()\n",
    "height = product.getSceneRasterHeight()\n",
    "name = product.getName()\n",
    "description = product.getDescription()\n",
    "band_names = product.getBandNames()\n",
    "\n",
    "print(\"Product: %s, %d x %d pixels, %s\" % (name, width, height, description))\n",
    "print(\"Bands:   %s\" % (list(band_names)))"
   ]
  },
  {
   "cell_type": "code",
   "execution_count": 33,
   "metadata": {
    "collapsed": true
   },
   "outputs": [],
   "source": [
    "#Ikke kjør denne!!!\n",
    "GPF.getDefaultInstance().getOperatorSpiRegistry().loadOperatorSpis()\n",
    "HashMap = jpy.get_type('java.util.HashMap')\n",
    "BandDescriptor = jpy.get_type('org.esa.snap.core.gpf.common.BandMathsOp$BandDescriptor')"
   ]
  },
  {
   "cell_type": "code",
   "execution_count": 3,
   "metadata": {
    "collapsed": true
   },
   "outputs": [],
   "source": [
    "#Men kjør heller denne!!!\n",
    "HashMap = snappy.jpy.get_type('java.util.HashMap')    \n",
    "snappy.GPF.getDefaultInstance().getOperatorSpiRegistry().loadOperatorSpis()\n",
    "parameters = HashMap()\n"
   ]
  },
  {
   "cell_type": "code",
   "execution_count": 4,
   "metadata": {
    "collapsed": true
   },
   "outputs": [],
   "source": [
    "parameters.put('targetResolution', 10)\n",
    "parameters.put('upsampling', 'Nearest')\n",
    "parameters.put('downsampling', 'First')\n",
    "parameters.put('flagDownsampling', 'First')\n",
    "parameters.put('resampleOnPyramidLevels', 'true')\n",
    "\n",
    "result = snappy.GPF.createProduct('Resample', parameters, product)"
   ]
  },
  {
   "cell_type": "code",
   "execution_count": 6,
   "metadata": {},
   "outputs": [
    {
     "name": "stdout",
     "output_type": "stream",
     "text": [
      "Writing...\n",
      "Done.\n"
     ]
    }
   ],
   "source": [
    "print(\"Writing...\")\n",
    "#ProductIO.writeProduct(result, 'snappy_resampling_output.dim', 'BEAM-DIMAP')\n",
    "\n",
    "ProductIO.writeProduct(result, 'snappy_resampling_output.tif', 'GeoTIFF')\n",
    "\n",
    "print(\"Done.\")\n"
   ]
  },
  {
   "cell_type": "code",
   "execution_count": null,
   "metadata": {
    "collapsed": true
   },
   "outputs": [],
   "source": []
  },
  {
   "cell_type": "code",
   "execution_count": null,
   "metadata": {
    "collapsed": true
   },
   "outputs": [],
   "source": []
  },
  {
   "cell_type": "code",
   "execution_count": 35,
   "metadata": {
    "collapsed": true
   },
   "outputs": [],
   "source": [
    "# NDVI\n",
    "targetBand2 = BandDescriptor()\n",
    "targetBand2.name = 'band_2'\n",
    "targetBand2.type = 'float32'\n",
    "targetBand2.expression = '(B8 - B4) / (B8 + B4)'"
   ]
  },
  {
   "cell_type": "code",
   "execution_count": 40,
   "metadata": {},
   "outputs": [
    {
     "name": "stdout",
     "output_type": "stream",
     "text": [
      "Writing...\n",
      "Done.\n"
     ]
    }
   ],
   "source": [
    "# Til fil\n",
    "targetBands = jpy.array('org.esa.snap.core.gpf.common.BandMathsOp$BandDescriptor', 1)\n",
    "targetBands[0] = targetBand2\n",
    "#targetBands[1] = targetBand1\n",
    "\n",
    "parameters = HashMap()\n",
    "parameters.put('targetBands', targetBands)\n",
    "\n",
    "result = GPF.createProduct('BandMaths', parameters, product)\n",
    "\n",
    "print(\"Writing...\")\n",
    "\n",
    "ProductIO.writeProduct(result, 'snappy_bmaths_output.dim', 'BEAM-DIMAP')\n",
    "\n",
    "print(\"Done.\")\n"
   ]
  }
 ],
 "metadata": {
  "kernelspec": {
   "display_name": "Python [default]",
   "language": "python",
   "name": "python2"
  },
  "language_info": {
   "codemirror_mode": {
    "name": "ipython",
    "version": 2
   },
   "file_extension": ".py",
   "mimetype": "text/x-python",
   "name": "python",
   "nbconvert_exporter": "python",
   "pygments_lexer": "ipython2",
   "version": "2.7.13"
  }
 },
 "nbformat": 4,
 "nbformat_minor": 2
}
