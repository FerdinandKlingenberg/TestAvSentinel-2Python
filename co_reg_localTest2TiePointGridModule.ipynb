{
 "cells": [
  {
   "cell_type": "code",
   "execution_count": 9,
   "metadata": {},
   "outputs": [
    {
     "name": "stdout",
     "output_type": "stream",
     "text": [
      "Calculating actual data corner coordinates for reference image...\n",
      "Bounding box of calculated footprint for reference image:\n",
      "\t(600000.0, 7690200.0, 709800.0, 7800000.0)\n",
      "Calculating actual data corner coordinates for image to be shifted...\n",
      "Automatically detected nodata value for GeoArray_CoReg 'S2A_OPER_MSI_L1C_TL_SGS__20160921T145244_A006526_T33WXT_B08': 0.0\n"
     ]
    },
    {
     "name": "stderr",
     "output_type": "stream",
     "text": [
      "C:\\Users\\DFAADM\\AppData\\Local\\Continuum\\Anaconda2\\envs\\arosics\\lib\\site-packages\\geoarray\\baseclasses.py:677: UserWarning: \n",
      "Automatic nodata value detection returned the value 0.0 for GeoArray 'S2A_OPER_MSI_L1C_TL_SGS__20160921T145244_A006526_T33WXT_B08' but this seems to be unreliable (occurs in only 1 image corner). To avoid automatic detection, just pass the correct nodata value.\n",
      "  possVals) == 2 else '1 image corner')))\n"
     ]
    },
    {
     "name": "stdout",
     "output_type": "stream",
     "text": [
      "Polygonize progress     |==================================================| 100.0% Complete  => 0:00:01\n",
      "Bounding box of calculated footprint for image to be shifted:\n",
      "\t(600000.0, 7690200.0, 709800.0, 7800000.0)\n",
      "Matching window position (X,Y): 652349.5606150536/7747169.507984877\n",
      "Detected integer shifts (X/Y):                            0/-1\n",
      "Detected subpixel shifts (X/Y):                           0.195636693411/0.346395820977\n",
      "Calculated total shifts in fft pixel units (X/Y):         0.195636693411/-0.653604179023\n",
      "Calculated total shifts in reference pixel units (X/Y):   0.195636693411/-0.653604179023\n",
      "Calculated total shifts in target pixel units (X/Y):      0.195636693411/-0.653604179023\n",
      "Calculated map shifts (X,Y):\t\t\t\t  1.9563669341150671/6.5360417906194925\n",
      "Calculated absolute shift vector length in map units:     6.8225518590644105\n",
      "Calculated angle of shift vector in degrees from North:   196.66348458565744\n",
      "Original map info: ['UTM', 1, 1, 600000.0, 7800000.0, 10.0, 10.0, 33, 'North', 'WGS-84']\n",
      "Updated map info:  ['UTM', 1, 1, '600001.9563669341', '7800006.536041791', 10.0, 10.0, 33, 'North', 'WGS-84']\n",
      "Image similarity within the matching window (SSIM before/after correction): 0.7149 => 0.7746\n",
      "Estimated reliability of the calculated shifts:  89.5 %\n",
      "Initializing tie points grid...\n"
     ]
    }
   ],
   "source": [
    "from arosics import Tie_Point_Grid, COREG\n",
    "import matplotlib\n",
    "\n",
    "im_reference = 'F:\\c\\S2A_OPER_PRD_MSIL1C_PDMC_20160820T181830_R051_V20160819T105032_20160819T105029.SAFE\\GRANULE\\S2A_OPER_MSI_L1C_TL_SGS__20160819T143155_A006054_T33WXT_N02.04\\IMG_DATA\\S2A_OPER_MSI_L1C_TL_SGS__20160819T143155_A006054_T33WXT_B08.jp2'\n",
    "im_target    = 'F:\\c\\S2A_OPER_PRD_MSIL1C_PDMC_20160923T030632_R094_V20160921T105732_20160921T105733.SAFE\\GRANULE\\S2A_OPER_MSI_L1C_TL_SGS__20160921T145244_A006526_T33WXT_N02.04\\IMG_DATA\\S2A_OPER_MSI_L1C_TL_SGS__20160921T145244_A006526_T33WXT_B08.jp2'\n",
    "\n",
    "#im_reference = 'F:\\c\\S2A_OPER_PRD_MSIL1C_PDMC_20160820T181830_R051_V20160819T105032_20160819T105029.SAFE\\GRANULE\\S2A_OPER_MSI_L1C_TL_SGS__20160819T143155_A006054_T33WXT_N02.04\\S2A_OPER_MTD_L1C_TL_SGS__20160819T143155_A006054_T33WXT.xml'\n",
    "#im_target    = 'F:\\c\\S2A_OPER_PRD_MSIL1C_PDMC_20160923T030632_R094_V20160921T105732_20160921T105733.SAFE\\GRANULE\\S2A_OPER_MSI_L1C_TL_SGS__20160921T145244_A006526_T33WXT_N02.04\\S2A_OPER_MTD_L1C_TL_SGS__20160921T145244_A006526_T33WXT.xml'\n",
    "\n",
    "CR = COREG(im_reference, im_target, ws=(256,256), path_out='F:/c/arosicsTest/resultTiePointGridModule/')\n",
    "#CR = COREG(im_reference, im_target, wp=(654900, 7745100), ws=(256,256))\n",
    "CR.calculate_spatial_shifts()\n",
    "\n",
    "TPG = Tie_Point_Grid(CR, 150)\n"
   ]
  },
  {
   "cell_type": "code",
   "execution_count": null,
   "metadata": {
    "collapsed": true
   },
   "outputs": [],
   "source": []
  },
  {
   "cell_type": "code",
   "execution_count": 10,
   "metadata": {},
   "outputs": [
    {
     "name": "stdout",
     "output_type": "stream",
     "text": [
      "Calculating tie points grid (5109 points) using 16 CPU cores...\n",
      "\tprogress: |==================================================| 100.0% Complete  => 0:00:04\n"
     ]
    },
    {
     "ename": "AssertionError",
     "evalue": "",
     "output_type": "error",
     "traceback": [
      "\u001b[1;31m---------------------------------------------------------------------------\u001b[0m",
      "\u001b[1;31mRemoteTraceback\u001b[0m                           Traceback (most recent call last)",
      "\u001b[1;31mRemoteTraceback\u001b[0m: \n\"\"\"\nTraceback (most recent call last):\n  File \"C:\\Users\\DFAADM\\AppData\\Local\\Continuum\\Anaconda2\\envs\\arosics\\lib\\multiprocessing\\pool.py\", line 119, in worker\n    result = (True, func(*args, **kwds))\n  File \"C:\\Users\\DFAADM\\AppData\\Local\\Continuum\\Anaconda2\\envs\\arosics\\lib\\multiprocessing\\pool.py\", line 44, in mapstar\n    return list(map(*args))\n  File \"C:\\Users\\DFAADM\\AppData\\Local\\Continuum\\Anaconda2\\envs\\arosics\\lib\\site-packages\\arosics\\Tie_Point_Grid.py\", line 224, in _get_spatial_shifts\n    assert global_shared_imref    is not None\nAssertionError\n\"\"\"",
      "\nThe above exception was the direct cause of the following exception:\n",
      "\u001b[1;31mAssertionError\u001b[0m                            Traceback (most recent call last)",
      "\u001b[1;32m<ipython-input-10-bbea16cdca16>\u001b[0m in \u001b[0;36m<module>\u001b[1;34m()\u001b[0m\n\u001b[0;32m      1\u001b[0m \u001b[1;31m#TPG.to_PointShapefile(path_out='F:/c/shapefiles/')\u001b[0m\u001b[1;33m\u001b[0m\u001b[1;33m\u001b[0m\u001b[0m\n\u001b[1;32m----> 2\u001b[1;33m \u001b[0mTPG\u001b[0m\u001b[1;33m.\u001b[0m\u001b[0mCoRegPoints_table\u001b[0m\u001b[1;33m\u001b[0m\u001b[0m\n\u001b[0m",
      "\u001b[1;32m~\\AppData\\Local\\Continuum\\Anaconda2\\envs\\arosics\\lib\\site-packages\\arosics\\Tie_Point_Grid.py\u001b[0m in \u001b[0;36mCoRegPoints_table\u001b[1;34m(self)\u001b[0m\n\u001b[0;32m    126\u001b[0m             \u001b[1;32mreturn\u001b[0m \u001b[0mself\u001b[0m\u001b[1;33m.\u001b[0m\u001b[0m_CoRegPoints_table\u001b[0m\u001b[1;33m\u001b[0m\u001b[0m\n\u001b[0;32m    127\u001b[0m         \u001b[1;32melse\u001b[0m\u001b[1;33m:\u001b[0m\u001b[1;33m\u001b[0m\u001b[0m\n\u001b[1;32m--> 128\u001b[1;33m             \u001b[0mself\u001b[0m\u001b[1;33m.\u001b[0m\u001b[0m_CoRegPoints_table\u001b[0m \u001b[1;33m=\u001b[0m \u001b[0mself\u001b[0m\u001b[1;33m.\u001b[0m\u001b[0mget_CoRegPoints_table\u001b[0m\u001b[1;33m(\u001b[0m\u001b[1;33m)\u001b[0m\u001b[1;33m\u001b[0m\u001b[0m\n\u001b[0m\u001b[0;32m    129\u001b[0m             \u001b[1;32mreturn\u001b[0m \u001b[0mself\u001b[0m\u001b[1;33m.\u001b[0m\u001b[0m_CoRegPoints_table\u001b[0m\u001b[1;33m\u001b[0m\u001b[0m\n\u001b[0;32m    130\u001b[0m \u001b[1;33m\u001b[0m\u001b[0m\n",
      "\u001b[1;32m~\\AppData\\Local\\Continuum\\Anaconda2\\envs\\arosics\\lib\\site-packages\\arosics\\Tie_Point_Grid.py\u001b[0m in \u001b[0;36mget_CoRegPoints_table\u001b[1;34m(self)\u001b[0m\n\u001b[0;32m    331\u001b[0m                             \u001b[0mbar\u001b[0m\u001b[1;33m.\u001b[0m\u001b[0mprint_progress\u001b[0m\u001b[1;33m(\u001b[0m\u001b[0mpercent\u001b[0m\u001b[1;33m=\u001b[0m\u001b[0mnumberDone\u001b[0m\u001b[1;33m/\u001b[0m\u001b[0mlen\u001b[0m\u001b[1;33m(\u001b[0m\u001b[0mGDF\u001b[0m\u001b[1;33m)\u001b[0m\u001b[1;33m*\u001b[0m\u001b[1;36m100\u001b[0m\u001b[1;33m)\u001b[0m\u001b[1;33m\u001b[0m\u001b[0m\n\u001b[0;32m    332\u001b[0m                         \u001b[1;32mif\u001b[0m \u001b[0mresults\u001b[0m\u001b[1;33m.\u001b[0m\u001b[0mready\u001b[0m\u001b[1;33m(\u001b[0m\u001b[1;33m)\u001b[0m\u001b[1;33m:\u001b[0m\u001b[1;33m\u001b[0m\u001b[0m\n\u001b[1;32m--> 333\u001b[1;33m                             \u001b[0mresults\u001b[0m \u001b[1;33m=\u001b[0m \u001b[0mresults\u001b[0m\u001b[1;33m.\u001b[0m\u001b[0mget\u001b[0m\u001b[1;33m(\u001b[0m\u001b[1;33m)\u001b[0m \u001b[1;31m# <= this is the line where multiprocessing can freeze if an exception appears within COREG ans is not raised\u001b[0m\u001b[1;33m\u001b[0m\u001b[0m\n\u001b[0m\u001b[0;32m    334\u001b[0m                             \u001b[1;32mbreak\u001b[0m\u001b[1;33m\u001b[0m\u001b[0m\n\u001b[0;32m    335\u001b[0m \u001b[1;33m\u001b[0m\u001b[0m\n",
      "\u001b[1;32m~\\AppData\\Local\\Continuum\\Anaconda2\\envs\\arosics\\lib\\multiprocessing\\pool.py\u001b[0m in \u001b[0;36mget\u001b[1;34m(self, timeout)\u001b[0m\n\u001b[0;32m    642\u001b[0m             \u001b[1;32mreturn\u001b[0m \u001b[0mself\u001b[0m\u001b[1;33m.\u001b[0m\u001b[0m_value\u001b[0m\u001b[1;33m\u001b[0m\u001b[0m\n\u001b[0;32m    643\u001b[0m         \u001b[1;32melse\u001b[0m\u001b[1;33m:\u001b[0m\u001b[1;33m\u001b[0m\u001b[0m\n\u001b[1;32m--> 644\u001b[1;33m             \u001b[1;32mraise\u001b[0m \u001b[0mself\u001b[0m\u001b[1;33m.\u001b[0m\u001b[0m_value\u001b[0m\u001b[1;33m\u001b[0m\u001b[0m\n\u001b[0m\u001b[0;32m    645\u001b[0m \u001b[1;33m\u001b[0m\u001b[0m\n\u001b[0;32m    646\u001b[0m     \u001b[1;32mdef\u001b[0m \u001b[0m_set\u001b[0m\u001b[1;33m(\u001b[0m\u001b[0mself\u001b[0m\u001b[1;33m,\u001b[0m \u001b[0mi\u001b[0m\u001b[1;33m,\u001b[0m \u001b[0mobj\u001b[0m\u001b[1;33m)\u001b[0m\u001b[1;33m:\u001b[0m\u001b[1;33m\u001b[0m\u001b[0m\n",
      "\u001b[1;31mAssertionError\u001b[0m: "
     ]
    }
   ],
   "source": [
    "#TPG.to_PointShapefile(path_out='F:/c/shapefiles/')\n",
    "TPG.CoRegPoints_table"
   ]
  }
 ],
 "metadata": {
  "kernelspec": {
   "display_name": "Python 3",
   "language": "python",
   "name": "python3"
  },
  "language_info": {
   "codemirror_mode": {
    "name": "ipython",
    "version": 3
   },
   "file_extension": ".py",
   "mimetype": "text/x-python",
   "name": "python",
   "nbconvert_exporter": "python",
   "pygments_lexer": "ipython3",
   "version": "3.6.2"
  }
 },
 "nbformat": 4,
 "nbformat_minor": 2
}
